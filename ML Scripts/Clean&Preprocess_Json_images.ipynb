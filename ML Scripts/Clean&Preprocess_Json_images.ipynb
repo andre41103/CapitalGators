{
 "cells": [
  {
   "cell_type": "code",
   "execution_count": 1,
   "id": "643e710e-5952-43bf-868b-7f9b16f75b5c",
   "metadata": {},
   "outputs": [
    {
     "name": "stdout",
     "output_type": "stream",
     "text": [
      "Processing complete. Cleaned JSON files are saved in 'cleaned_json_images'.\n"
     ]
    }
   ],
   "source": [
    "import os\n",
    "import json\n",
    "\n",
    "def process_receipts(input_folder, output_folder):\n",
    "    if not os.path.exists(output_folder):\n",
    "        os.makedirs(output_folder)\n",
    "    \n",
    "    for filename in os.listdir(input_folder):\n",
    "        if filename.endswith(\".json\"):\n",
    "            input_path = os.path.join(input_folder, filename)\n",
    "            output_path = os.path.join(output_folder, filename)\n",
    "            \n",
    "            with open(input_path, \"r\", encoding=\"utf-8\") as file:\n",
    "                try:\n",
    "                    data = json.load(file)\n",
    "                    \n",
    "                    # Ensure data is a list\n",
    "                    if isinstance(data, list):\n",
    "                        cleaned_data = [\n",
    "                            {\n",
    "                                \"merchant_name\": receipt.get(\"merchant_name\", \"\"),\n",
    "                                \"receipt_type\": receipt.get(\"receipt_type\", \"\"),\n",
    "                                \"total\": receipt.get(\"total\", 0.0),\n",
    "                                \"date\": receipt.get(\"transaction_date\", \"\"),\n",
    "                                \"notes\": \"\",\n",
    "                                \"recurring\": False\n",
    "                            }\n",
    "                            for receipt in data\n",
    "                        ]\n",
    "                        \n",
    "                        # Save cleaned data\n",
    "                        with open(output_path, \"w\", encoding=\"utf-8\") as out_file:\n",
    "                            json.dump(cleaned_data, out_file, indent=4)\n",
    "                except json.JSONDecodeError:\n",
    "                    print(f\"Error decoding JSON in file: {filename}\")\n",
    "\n",
    "if __name__ == \"__main__\":\n",
    "    input_folder = \"processed_json_images\"\n",
    "    output_folder = \"cleaned_json_images\"\n",
    "    process_receipts(input_folder, output_folder)\n",
    "    print(\"Processing complete. Cleaned JSON files are saved in 'cleaned_json_images'.\")"
   ]
  },
  {
   "cell_type": "code",
   "execution_count": null,
   "id": "58c78b25-cb19-41bf-a0f4-9e8c72282740",
   "metadata": {},
   "outputs": [],
   "source": []
  }
 ],
 "metadata": {
  "kernelspec": {
   "display_name": "Python 3 (ipykernel)",
   "language": "python",
   "name": "python3"
  },
  "language_info": {
   "codemirror_mode": {
    "name": "ipython",
    "version": 3
   },
   "file_extension": ".py",
   "mimetype": "text/x-python",
   "name": "python",
   "nbconvert_exporter": "python",
   "pygments_lexer": "ipython3",
   "version": "3.12.4"
  }
 },
 "nbformat": 4,
 "nbformat_minor": 5
}
