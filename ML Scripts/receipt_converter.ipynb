{
 "cells": [
  {
   "cell_type": "code",
   "execution_count": 9,
   "id": "f33a4c16-e895-47f2-8aec-164b753c0325",
   "metadata": {},
   "outputs": [
    {
     "name": "stdout",
     "output_type": "stream",
     "text": [
      "[\n",
      "    {\n",
      "        \"merchant_name\": \"S.H.H. MOTOR ( SUNGAI RENGIT ) SDN. BHD.\",\n",
      "        \"receipt_type\": \"receipt.retailMeal\",\n",
      "        \"total\": 20.0,\n",
      "        \"date\": \"2019-01-23\",\n",
      "        \"notes\": \"\",\n",
      "        \"recurring\": false\n",
      "    }\n",
      "]\n"
     ]
    }
   ],
   "source": [
    "import os\n",
    "import json\n",
    "from azure.core.credentials import AzureKeyCredential\n",
    "from azure.ai.documentintelligence import DocumentIntelligenceClient\n",
    "from PIL import Image\n",
    "\n",
    "def analyze_receipt(image_path):\n",
    "    endpoint = \"https://resourceforimages.cognitiveservices.azure.com/\"\n",
    "    key = \"FcpM8ICO9uWjpqUZjGMjcgu3TcBg363FsUTF2LhpObr4SAfJa3ngJQQJ99BCACYeBjFXJ3w3AAALACOGgWZc\"\n",
    "\n",
    "    document_intelligence_client = DocumentIntelligenceClient(\n",
    "        endpoint=endpoint, credential=AzureKeyCredential(key)\n",
    "    )\n",
    "\n",
    "    def get_field_value(field, field_type=\"string\"):\n",
    "        if field:\n",
    "            if field_type == \"string\":\n",
    "                return field.value_string if field.value_string else None\n",
    "            elif field_type == \"date\":\n",
    "                return field.value_date.strftime(\"%Y-%m-%d\") if field.value_date else None\n",
    "            elif field_type == \"currency\":\n",
    "                return field.value_currency.amount if field.value_currency else None\n",
    "            elif field_type == \"number\":\n",
    "                return field.value_number if field.value_number else None\n",
    "        return None\n",
    "\n",
    "    # Resize if necessary\n",
    "    def resize_image(image_path, max_size=(800, 800), max_quality=85):\n",
    "        with Image.open(image_path) as img:\n",
    "            img.thumbnail(max_size)\n",
    "            resized_image_path = os.path.splitext(image_path)[0] + \"_resized.jpg\"\n",
    "            img.save(resized_image_path, \"JPEG\", quality=max_quality)\n",
    "        return resized_image_path\n",
    "\n",
    "    if os.path.getsize(image_path) > 4 * 1024 * 1024:\n",
    "        print(\"Resizing image...\")\n",
    "        image_path = resize_image(image_path)\n",
    "\n",
    "    with open(image_path, \"rb\") as receipt_file:\n",
    "        poller = document_intelligence_client.begin_analyze_document(\"prebuilt-receipt\", receipt_file)\n",
    "        receipts = poller.result()\n",
    "\n",
    "    cleaned_data = []\n",
    "    for idx, receipt in enumerate(receipts.documents):\n",
    "        receipt_info = {\n",
    "            \"merchant_name\": get_field_value(receipt.fields.get(\"MerchantName\")),\n",
    "            \"receipt_type\": receipt.doc_type,\n",
    "            \"total\": get_field_value(receipt.fields.get(\"Total\"), \"currency\"),\n",
    "            \"date\": get_field_value(receipt.fields.get(\"TransactionDate\"), \"date\"),\n",
    "            \"notes\": \"\",\n",
    "            \"recurring\": False\n",
    "        }\n",
    "        cleaned_data.append(receipt_info)\n",
    "\n",
    "    print(json.dumps(cleaned_data, indent=4))\n",
    "\n",
    "# function that takes in the receipt from the user\n",
    "# analyze_receipt(\"../new_images/receipt_2304.jpg\")\n"
   ]
  },
  {
   "cell_type": "code",
   "execution_count": null,
   "id": "39a9fd31-7de5-4cd9-835e-677cbb4df685",
   "metadata": {},
   "outputs": [],
   "source": []
  }
 ],
 "metadata": {
  "kernelspec": {
   "display_name": "Python 3 (ipykernel)",
   "language": "python",
   "name": "python3"
  },
  "language_info": {
   "codemirror_mode": {
    "name": "ipython",
    "version": 3
   },
   "file_extension": ".py",
   "mimetype": "text/x-python",
   "name": "python",
   "nbconvert_exporter": "python",
   "pygments_lexer": "ipython3",
   "version": "3.11.9"
  }
 },
 "nbformat": 4,
 "nbformat_minor": 5
}
