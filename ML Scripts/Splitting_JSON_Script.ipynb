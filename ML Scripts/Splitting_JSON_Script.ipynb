{
 "cells": [
  {
   "cell_type": "code",
   "execution_count": null,
   "id": "835bffef-b23e-4436-8f7a-a2135eaf4a41",
   "metadata": {},
   "outputs": [],
   "source": [
    "import random\n",
    "import json\n",
    "import os\n",
    "\n",
    "# Sample receipt data (replace this with actual data or load from a file)\n",
    "input_folder = 'processed_json_images'\n",
    "output_folder = 'user_receipts'\n",
    "os.makedirs(output_folder, exist_ok=True)\n",
    "\n",
    "with open(os.path.join(input_folder, 'receipts.json'), 'r') as file:\n",
    "    all_receipts = json.load(file)\n",
    "\n",
    "num_users = 80\n",
    "min_receipts = 10\n",
    "max_receipts = 35\n",
    "\n",
    "def distribute_receipts(users, receipts):\n",
    "    user_receipts = {}\n",
    "    available_receipts = receipts[:]\n",
    "    \n",
    "    for user_id in range(1, users + 1):\n",
    "        num_user_receipts = random.randint(min_receipts, max_receipts)\n",
    "        assigned_receipts = random.sample(available_receipts, min(num_user_receipts, len(available_receipts)))\n",
    "        user_folder = os.path.join(output_folder, f'user_{user_id}')\n",
    "        os.makedirs(user_folder, exist_ok=True)\n",
    "        \n",
    "        user_receipts[f'user_{user_id}'] = assigned_receipts\n",
    "        \n",
    "        with open(os.path.join(user_folder, 'receipts.json'), 'w') as output_file:\n",
    "            json.dump(assigned_receipts, output_file, indent=4)\n",
    "        \n",
    "        # Remove assigned receipts from the pool\n",
    "        available_receipts = [r for r in available_receipts if r not in assigned_receipts]\n",
    "        \n",
    "        if not available_receipts:\n",
    "            break\n",
    "    \n",
    "    return user_receipts\n",
    "\n",
    "distribute_receipts(num_users, all_receipts)\n",
    "\n",
    "print(\"Receipt distribution completed. Check the 'user_receipts' folder for details.\")"
   ]
  }
 ],
 "metadata": {
  "kernelspec": {
   "display_name": "Python 3 (ipykernel)",
   "language": "python",
   "name": "python3"
  },
  "language_info": {
   "codemirror_mode": {
    "name": "ipython",
    "version": 3
   },
   "file_extension": ".py",
   "mimetype": "text/x-python",
   "name": "python",
   "nbconvert_exporter": "python",
   "pygments_lexer": "ipython3",
   "version": "3.12.4"
  }
 },
 "nbformat": 4,
 "nbformat_minor": 5
}
