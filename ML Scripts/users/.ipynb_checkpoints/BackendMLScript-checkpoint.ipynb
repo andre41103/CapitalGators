{
 "cells": [
  {
   "cell_type": "code",
   "execution_count": null,
   "id": "11c8601c-9efe-4182-99a4-6df6c14729de",
   "metadata": {},
   "outputs": [],
   "source": [
    "# Define variables for all the items that the model will use (everything in the user_total.json) -- query all of these fields from the database\n",
    "# and store in variables"
   ]
  },
  {
   "cell_type": "code",
   "execution_count": null,
   "id": "c2b92051-ada1-4ee6-ad07-77c4b7cbaae4",
   "metadata": {},
   "outputs": [],
   "source": [
    "# Query all individual receipts for the graph (this should show date of purchase and add the current receipt to the overall total \n",
    "# and plot current_total += new_receipt_total) -- anytime current total updates add point to graph"
   ]
  },
  {
   "cell_type": "code",
   "execution_count": 1,
   "id": "129a21d7-4e13-4eda-841e-e282e8848a35",
   "metadata": {},
   "outputs": [],
   "source": [
    "# Create and export the trained model here"
   ]
  },
  {
   "cell_type": "code",
   "execution_count": null,
   "id": "01813286-0830-4b79-9e12-193291573f06",
   "metadata": {},
   "outputs": [],
   "source": [
    "# Feed user_total.json into trained model -> will be parameters in the model"
   ]
  },
  {
   "cell_type": "code",
   "execution_count": null,
   "id": "c0b01073-ffb4-4aa9-8d7b-246f854e553d",
   "metadata": {},
   "outputs": [],
   "source": [
    "# model -> single number reflecting projected monthly spending"
   ]
  },
  {
   "cell_type": "code",
   "execution_count": null,
   "id": "cc68b5fb-e537-451a-9e7e-e5b008e1c5ad",
   "metadata": {},
   "outputs": [],
   "source": [
    "# plot number above on day 30 or 31 depending on the month and make dashed line connecting them"
   ]
  },
  {
   "cell_type": "code",
   "execution_count": null,
   "id": "30632574-9e71-49c8-b319-1df6b99a466f",
   "metadata": {},
   "outputs": [],
   "source": [
    "# this script will export a graph!!!"
   ]
  },
  {
   "cell_type": "code",
   "execution_count": null,
   "id": "614b21c3-a725-42d8-acb5-f8700b885602",
   "metadata": {},
   "outputs": [],
   "source": [
    "** # tell andrea and carolina # note only display once 4 non recurring receipts have been populated for the month\n",
    "# otherwise blur out graph with note to add x more receipts to unlock porojected spending"
   ]
  }
 ],
 "metadata": {
  "kernelspec": {
   "display_name": "Python 3 (ipykernel)",
   "language": "python",
   "name": "python3"
  },
  "language_info": {
   "codemirror_mode": {
    "name": "ipython",
    "version": 3
   },
   "file_extension": ".py",
   "mimetype": "text/x-python",
   "name": "python",
   "nbconvert_exporter": "python",
   "pygments_lexer": "ipython3",
   "version": "3.12.4"
  }
 },
 "nbformat": 4,
 "nbformat_minor": 5
}
