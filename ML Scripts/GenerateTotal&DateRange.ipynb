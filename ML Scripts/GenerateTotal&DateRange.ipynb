{
 "cells": [
  {
   "cell_type": "code",
   "execution_count": 5,
   "id": "f80f312f-cca6-4006-bc2a-ab920fd68902",
   "metadata": {},
   "outputs": [
    {
     "name": "stdout",
     "output_type": "stream",
     "text": [
      "Error reading /Users/meganshah/Desktop/CapitalGators/users/user_2/receipt_1727.json: Expecting value: line 3 column 26 (char 33)\n",
      "Error reading /Users/meganshah/Desktop/CapitalGators/users/user_4/receipt_1014.json: Expecting value: line 3 column 26 (char 33)\n",
      "Error reading /Users/meganshah/Desktop/CapitalGators/users/user_8/receipt_481.json: Expecting value: line 3 column 26 (char 33)\n",
      "Error reading /Users/meganshah/Desktop/CapitalGators/users/user_8/receipt_1933.json: Expecting value: line 3 column 26 (char 33)\n",
      "Error reading /Users/meganshah/Desktop/CapitalGators/users/user_9/receipt_436.json: Expecting value: line 3 column 26 (char 33)\n",
      "Error reading /Users/meganshah/Desktop/CapitalGators/users/user_7/receipt_634.json: Expecting value: line 3 column 26 (char 33)\n",
      "Error reading /Users/meganshah/Desktop/CapitalGators/users/user_7/receipt_1558.json: Expecting value: line 3 column 26 (char 33)\n",
      "Error reading /Users/meganshah/Desktop/CapitalGators/users/user_7/receipt_1071.json: Expecting value: line 3 column 26 (char 33)\n"
     ]
    }
   ],
   "source": [
    "import os\n",
    "import json\n",
    "import random\n",
    "\n",
    "# Set up base path to users/ folder\n",
    "base_dir = os.getcwd()\n",
    "users_dir = os.path.abspath(os.path.join(base_dir, \"..\", \"users\"))\n",
    "\n",
    "# Loop through each user folder\n",
    "for folder in os.listdir(users_dir):\n",
    "    folder_path = os.path.join(users_dir, folder)\n",
    "    if os.path.isdir(folder_path) and folder.startswith(\"user_\"):\n",
    "        total = 0.0\n",
    "        for filename in os.listdir(folder_path):\n",
    "            file_path = os.path.join(folder_path, filename)\n",
    "            if os.path.isfile(file_path) and filename.endswith(\".json\") and filename != \"user_total.json\":\n",
    "                try:\n",
    "                    with open(file_path, \"r\") as f:\n",
    "                        data = json.load(f)\n",
    "                        for obj in data:\n",
    "                            amount = obj.get(\"total\")\n",
    "                            if isinstance(amount, (int, float)):\n",
    "                                total += amount\n",
    "                except Exception as e:\n",
    "                    print(f\"Error reading {file_path}: {e}\")\n",
    "        \n",
    "        # Generate a random date range between 5 and 20\n",
    "        date_range = random.randint(5, 20)\n",
    "\n",
    "        # Write total and date range to a new JSON file\n",
    "        total_file = os.path.join(folder_path, \"user_total.json\")\n",
    "        with open(total_file, \"w\") as f_out:\n",
    "            json.dump({\n",
    "                \"total\": round(total, 2),\n",
    "                \"date_range\": date_range\n",
    "            }, f_out, indent=4)\n"
   ]
  },
  {
   "cell_type": "code",
   "execution_count": null,
   "id": "ac9b44dd-5986-4e27-9b4a-cce36b04904f",
   "metadata": {},
   "outputs": [],
   "source": []
  }
 ],
 "metadata": {
  "kernelspec": {
   "display_name": "Python 3 (ipykernel)",
   "language": "python",
   "name": "python3"
  },
  "language_info": {
   "codemirror_mode": {
    "name": "ipython",
    "version": 3
   },
   "file_extension": ".py",
   "mimetype": "text/x-python",
   "name": "python",
   "nbconvert_exporter": "python",
   "pygments_lexer": "ipython3",
   "version": "3.12.4"
  }
 },
 "nbformat": 4,
 "nbformat_minor": 5
}
