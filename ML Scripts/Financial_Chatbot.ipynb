{
 "cells": [
  {
   "cell_type": "code",
   "execution_count": null,
   "id": "56ffb9c7-e37f-4a7b-a248-5e298b8e2d1d",
   "metadata": {},
   "outputs": [],
   "source": [
    "# i think you have to pip install requests or something like that\n",
    "import requests\n",
    "\n",
    "api_key = 'sk-eDmUtG3PoIUDnu5L8ewggA'\n",
    "completions_endpoint = 'https://api.ai.it.ufl.edu/v1/chat/completions'\n",
    "\n",
    "headers = {\n",
    "    'Authorization': f'Bearer {api_key}',\n",
    "    'Content-Type': 'application/json'\n",
    "}\n",
    "\n",
    "input_text = \"How much have I spent this month?\"\n",
    "\n",
    "payload = {\n",
    "    \"model\": \"llama-3.1-70b-instruct\",  # Use the correct model ID\n",
    "    \"messages\": [\n",
    "        {\"role\": \"system\", \"content\": \"You are a financial assistant.\"},\n",
    "        {\"role\": \"user\", \"content\": input_text}\n",
    "    ],\n",
    "    \"max_tokens\": 150  # Adjust this value based on how much response you want\n",
    "}\n",
    "\n",
    "response = requests.post(completions_endpoint, json=payload, headers=headers)\n",
    "\n",
    "if response.status_code == 200:\n",
    "    response_data = response.json()\n",
    "    output = response_data.get('choices', [])[0].get('message', {}).get('content', 'No output received.')\n",
    "    print(\"Chatbot Response:\", output)\n",
    "else:\n",
    "    print(f\"Error: {response.status_code}, {response.text}\")\n"
   ]
  }
 ],
 "metadata": {
  "kernelspec": {
   "display_name": "Python 3 (ipykernel)",
   "language": "python",
   "name": "python3"
  },
  "language_info": {
   "codemirror_mode": {
    "name": "ipython",
    "version": 3
   },
   "file_extension": ".py",
   "mimetype": "text/x-python",
   "name": "python",
   "nbconvert_exporter": "python",
   "pygments_lexer": "ipython3",
   "version": "3.11.9"
  }
 },
 "nbformat": 4,
 "nbformat_minor": 5
}
