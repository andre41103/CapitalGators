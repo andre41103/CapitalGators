{
 "cells": [
  {
   "cell_type": "code",
   "execution_count": 3,
   "id": "ded49f57-2ce1-4d2c-ac31-5cf0561a7f73",
   "metadata": {},
   "outputs": [
    {
     "name": "stdout",
     "output_type": "stream",
     "text": [
      "Distributed JSON files to 197 users.\n"
     ]
    }
   ],
   "source": [
    "import os\n",
    "import shutil\n",
    "import random\n",
    "\n",
    "def distribute_json_files():\n",
    "    # Adjust paths relative to the project root\n",
    "    source_folder = os.path.join('..', 'cleaned_json_images')\n",
    "    users_folder = os.path.join('..', 'users')\n",
    "\n",
    "    # Ensure the users folder exists\n",
    "    os.makedirs(users_folder, exist_ok=True)\n",
    "\n",
    "    # Get all json files\n",
    "    json_files = [f for f in os.listdir(source_folder) if f.endswith('.json')]\n",
    "    random.shuffle(json_files)\n",
    "\n",
    "    user_count = 0\n",
    "\n",
    "    while json_files:\n",
    "        user_count += 1\n",
    "        user_folder = os.path.join(users_folder, f'user_{user_count}')\n",
    "        os.makedirs(user_folder, exist_ok=True)\n",
    "\n",
    "        # Randomly decide how many files this user gets\n",
    "        num_files = min(random.randint(5, 30), len(json_files))\n",
    "        \n",
    "        for _ in range(num_files):\n",
    "            file_to_move = json_files.pop()\n",
    "            shutil.move(os.path.join(source_folder, file_to_move), os.path.join(user_folder, file_to_move))\n",
    "\n",
    "    print(f\"Distributed JSON files to {user_count} users.\")\n",
    "\n",
    "if __name__ == '__main__':\n",
    "    distribute_json_files()\n"
   ]
  },
  {
   "cell_type": "code",
   "execution_count": null,
   "id": "c849e5a0-56db-46d7-be85-1b0d9d412a81",
   "metadata": {},
   "outputs": [],
   "source": []
  }
 ],
 "metadata": {
  "kernelspec": {
   "display_name": "Python 3 (ipykernel)",
   "language": "python",
   "name": "python3"
  },
  "language_info": {
   "codemirror_mode": {
    "name": "ipython",
    "version": 3
   },
   "file_extension": ".py",
   "mimetype": "text/x-python",
   "name": "python",
   "nbconvert_exporter": "python",
   "pygments_lexer": "ipython3",
   "version": "3.11.9"
  }
 },
 "nbformat": 4,
 "nbformat_minor": 5
}
